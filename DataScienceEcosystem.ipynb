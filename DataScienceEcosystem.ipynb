{
 "cells": [
  {
   "cell_type": "markdown",
   "id": "c1a61b47-2902-4609-92cb-b9c2d804e869",
   "metadata": {},
   "source": [
    "# Data Science Tools and Ecosystem"
   ]
  },
  {
   "cell_type": "markdown",
   "id": "a5106334-798b-4e4d-bf59-5f38b4530cd2",
   "metadata": {},
   "source": [
    "In this notebook, Data Science Tools and Ecosystem are summarized."
   ]
  },
  {
   "cell_type": "markdown",
   "id": "563ea8a9-0741-49a7-83a5-fde0db55cf65",
   "metadata": {},
   "source": [
    "**Objectives:**\n",
    "* List of popular languages for Data Science.\n",
    "* List of librarires commonly used by Data Scientists.\n",
    "* Table with Data Science Tools.\n",
    "* Simple arithmetic expression to multiply then add integers.\n",
    "* An expression that converts 200 minutes into hours."
   ]
  },
  {
   "cell_type": "markdown",
   "id": "a101f8fb-e202-41ba-a283-712de7e09b34",
   "metadata": {},
   "source": [
    "Some of the popular languages that Data Scientists use are:\n",
    "1. Python\n",
    "2. R\n",
    "3. Julia\n",
    "4. Scala\n",
    "5. SQL\n",
    "6. Java"
   ]
  },
  {
   "cell_type": "markdown",
   "id": "b2ed3093-b459-483d-b65d-23444b7d5be2",
   "metadata": {},
   "source": [
    "Some of the commonly used libraries used by Data Scientists include:\n",
    "1. Pandas\n",
    "2. NumPy\n",
    "3. Matplotlib\n",
    "4. Seaborn\n",
    "5. Plotly\n",
    "6. Scikit-Learn\n",
    "7. TensorFlow"
   ]
  },
  {
   "cell_type": "markdown",
   "id": "adfaa95d-7345-42f9-ae41-0699abaf55d5",
   "metadata": {},
   "source": [
    "| Data Science Tools |\n",
    "| :----------------- |\n",
    "| RStudio |\n",
    "| Apache Spark |\n",
    "| Apache Hadoop |\n",
    "| Jupyter Notebook |\n",
    "| Keras |"
   ]
  },
  {
   "cell_type": "markdown",
   "id": "ec1cbc3d-e46c-4e8c-8e6d-2f75b7816254",
   "metadata": {
    "tags": []
   },
   "source": [
    "### Below are a few examples of evaluating arithmetic expressions in Python"
   ]
  },
  {
   "cell_type": "code",
   "execution_count": 1,
   "id": "e23236c5-b4d7-4a6b-a157-3781e05f9aa8",
   "metadata": {
    "tags": []
   },
   "outputs": [
    {
     "data": {
      "text/plain": [
       "17"
      ]
     },
     "execution_count": 1,
     "metadata": {},
     "output_type": "execute_result"
    }
   ],
   "source": [
    "#This a simple arithmetic expression to multiply then add integers.\n",
    "(3*4)+5"
   ]
  },
  {
   "cell_type": "code",
   "execution_count": 2,
   "id": "bd13b771-c5dc-4a9a-b82e-e800f3a46f40",
   "metadata": {
    "tags": []
   },
   "outputs": [
    {
     "name": "stdout",
     "output_type": "stream",
     "text": [
      "200 minutes is  3.3333333333333335 hours\n"
     ]
    }
   ],
   "source": [
    "#This will convert 200 minutes to hours by diving by 60.\n",
    "m = 200\n",
    "h = m/60\n",
    "print(m, \"minutes is \", h, \"hours\")"
   ]
  },
  {
   "cell_type": "markdown",
   "id": "b2b5df13-4c6c-4b76-9a4e-7dcac2adca81",
   "metadata": {},
   "source": [
    "## Author\n",
    "[Nazarij Poddubnyy](https://github.com/NazarijUnder3)"
   ]
  }
 ],
 "metadata": {
  "kernelspec": {
   "display_name": "Python 3 (ipykernel)",
   "language": "python",
   "name": "python3"
  },
  "language_info": {
   "codemirror_mode": {
    "name": "ipython",
    "version": 3
   },
   "file_extension": ".py",
   "mimetype": "text/x-python",
   "name": "python",
   "nbconvert_exporter": "python",
   "pygments_lexer": "ipython3",
   "version": "3.10.9"
  }
 },
 "nbformat": 4,
 "nbformat_minor": 5
}
